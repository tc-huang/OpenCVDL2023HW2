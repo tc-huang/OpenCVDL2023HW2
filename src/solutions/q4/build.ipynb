{
 "cells": [
  {
   "cell_type": "code",
   "execution_count": 1,
   "metadata": {},
   "outputs": [
    {
     "name": "stderr",
     "output_type": "stream",
     "text": [
      "/Users/tchuang/.local/share/virtualenvs/OpenCVDL2023HW2-jWty1gEm/lib/python3.10/site-packages/tqdm/auto.py:21: TqdmWarning: IProgress not found. Please update jupyter and ipywidgets. See https://ipywidgets.readthedocs.io/en/stable/user_install.html\n",
      "  from .autonotebook import tqdm as notebook_tqdm\n"
     ]
    }
   ],
   "source": [
    "import timm\n",
    "import torch\n",
    "from torch.utils.data import DataLoader\n",
    "from torchvision.datasets import MNIST\n",
    "from torchvision.transforms import Compose, Normalize, Resize, ToTensor, v2\n",
    "\n",
    "torch.manual_seed(17)\n",
    "\n",
    "NUM_FINETUNE_CLASSES = 10\n",
    "\n",
    "model = timm.create_model(\n",
    "    \"vgg19_bn\", checkpoint_path=\"/Users/tchuang/GitHub/OpenCVDL2023HW2/src/solutions/q4/results/checkpoint/best_model_28_accuracy=0.9398.pt\", num_classes=NUM_FINETUNE_CLASSES\n",
    ")"
   ]
  },
  {
   "cell_type": "code",
   "execution_count": 19,
   "metadata": {},
   "outputs": [],
   "source": [
    "data_transform = Compose(\n",
    "    [\n",
    "        ToTensor(),\n",
    "        Normalize((0.1307,), (0.3081,)),\n",
    "        Resize((32, 32)),\n",
    "        v2.Lambda(lambda x: x.repeat(3, 1, 1)),\n",
    "    ]\n",
    ")\n",
    "\n",
    "val_loader = DataLoader(\n",
    "    MNIST(download=True, root=\".\", transform=data_transform, train=False),\n",
    "    batch_size=256,\n",
    "    shuffle=False,\n",
    ")"
   ]
  },
  {
   "cell_type": "code",
   "execution_count": 38,
   "metadata": {},
   "outputs": [],
   "source": [
    "# from tqdm import tqdm\n",
    "# import numpy as np\n",
    "# import matplotlib.pyplot as plt\n",
    "# correct = 0\n",
    "# count = 0\n",
    "\n",
    "# catch_image = None\n",
    "\n",
    "# for batch in tqdm(val_loader):\n",
    "#     images, labels = batch\n",
    "#     with torch.no_grad():\n",
    "#         logits = model(images)\n",
    "#     predicted_label = logits.argmax(-1)\n",
    "#     print(logits)\n",
    "#     print(labels)\n",
    "#     print(predicted_label)\n",
    "#     catch_image = images[0]\n",
    "#     for image in images:\n",
    "#         plt.imshow(image.permute(1, 2, 0))\n",
    "#         plt.show()\n",
    "#     break\n",
    "#     matching_count = torch.sum(predicted_label == labels).item()\n",
    "#     correct += matching_count\n",
    "#     count += len(labels)\n",
    "\n",
    "# print(f\"Accuracy: {correct / count}\")"
   ]
  },
  {
   "cell_type": "code",
   "execution_count": 40,
   "metadata": {},
   "outputs": [
    {
     "name": "stdout",
     "output_type": "stream",
     "text": [
      "5\n"
     ]
    }
   ],
   "source": [
    "from PIL import Image\n",
    "from IPython.display import display\n",
    "test_image_path = \"/Users/tchuang/GitHub/OpenCVDL2023HW2/composit.png\"\n",
    "test_image = Image.open(test_image_path).resize((28, 28)).convert(\"L\")\n",
    "mnist = MNIST(download=True, root=\".\", train=False)\n",
    "mnist255 = [data_transform(mnist[i][0]) for i in range(255)]\n",
    "fake_batch = [data_transform(test_image)] + mnist255\n",
    "fake_batch = torch.stack(fake_batch)\n",
    "with torch.no_grad():\n",
    "    logits = model(fake_batch)\n",
    "predicted_label = logits.argmax(-1)[0].item()\n",
    "print(predicted_label)"
   ]
  }
 ],
 "metadata": {
  "kernelspec": {
   "display_name": "OpenCVDL2023HW2-jWty1gEm",
   "language": "python",
   "name": "python3"
  },
  "language_info": {
   "codemirror_mode": {
    "name": "ipython",
    "version": 3
   },
   "file_extension": ".py",
   "mimetype": "text/x-python",
   "name": "python",
   "nbconvert_exporter": "python",
   "pygments_lexer": "ipython3",
   "version": "3.10.12"
  }
 },
 "nbformat": 4,
 "nbformat_minor": 2
}
