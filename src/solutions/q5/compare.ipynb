{
 "cells": [
  {
   "cell_type": "code",
   "execution_count": 1,
   "metadata": {},
   "outputs": [
    {
     "name": "stderr",
     "output_type": "stream",
     "text": [
      "/Users/tchuang/.local/share/virtualenvs/OpenCVDL2023HW2-jWty1gEm/lib/python3.10/site-packages/tqdm/auto.py:21: TqdmWarning: IProgress not found. Please update jupyter and ipywidgets. See https://ipywidgets.readthedocs.io/en/stable/user_install.html\n",
      "  from .autonotebook import tqdm as notebook_tqdm\n"
     ]
    }
   ],
   "source": [
    "from IPython.display import display\n",
    "from tqdm import trange\n",
    "import matplotlib.pyplot as plt\n",
    "from PIL import Image\n",
    "import os\n",
    "import glob\n",
    "import numpy as np\n",
    "import torch\n",
    "from torchvision.transforms import v2\n",
    "from torchvision.io import read_image\n",
    "from torch.utils.data import Dataset"
   ]
  },
  {
   "cell_type": "code",
   "execution_count": 2,
   "metadata": {},
   "outputs": [],
   "source": [
    "check_point1 = \"/Users/tchuang/GitHub/OpenCVDL2023HW2/src/model/without/detr-resnet-50_2023-12-24_13:45:39_best1\"\n",
    "check_point2 = \"/Users/tchuang/GitHub/OpenCVDL2023HW2/src/model/with/detr-resnet-50_2023-12-24_13:45:46_best1\"\n",
    "\n",
    "# training_dataset_dir = \"/Users/tchuang/GitHub/OpenCVDL2023HW2/data/raw/dataset/training_dataset\"\n",
    "validation_dataset_dir = \"/Users/tchuang/GitHub/OpenCVDL2023HW2/data/raw/dataset/validation_dataset\"\n",
    "inference_dataset_dir = \"/Users/tchuang/GitHub/OpenCVDL2023HW2/data/raw/dataset/inference_dataset\""
   ]
  },
  {
   "cell_type": "code",
   "execution_count": 3,
   "metadata": {},
   "outputs": [
    {
     "name": "stdout",
     "output_type": "stream",
     "text": [
      "cat_image_paths: /Users/tchuang/GitHub/OpenCVDL2023HW2/data/raw/dataset/validation_dataset/Cat/*.jpg, len: 588\n",
      "dog_image_paths: /Users/tchuang/GitHub/OpenCVDL2023HW2/data/raw/dataset/validation_dataset/Dog/*.jpg, len: 1212\n",
      "cat_image_paths: /Users/tchuang/GitHub/OpenCVDL2023HW2/data/raw/dataset/inference_dataset/Cat/*.jpg, len: 5\n",
      "dog_image_paths: /Users/tchuang/GitHub/OpenCVDL2023HW2/data/raw/dataset/inference_dataset/Dog/*.jpg, len: 5\n"
     ]
    }
   ],
   "source": [
    "class CatDogDataset(Dataset):\n",
    "    def __init__(self, dataset_dir, transform=None):\n",
    "        \n",
    "        cat_image_dir = os.path.join(dataset_dir, 'Cat', '*.jpg')\n",
    "        cat_image_paths = glob.glob(cat_image_dir)\n",
    "        print(f\"cat_image_paths: {cat_image_dir}, len: {len(cat_image_paths)}\")\n",
    "        cat_image_labels = torch.zeros(size=(len(cat_image_paths),))\n",
    "        \n",
    "        dog_image_dir = os.path.join(dataset_dir, 'Dog', '*.jpg')\n",
    "        dog_image_paths = glob.glob(dog_image_dir)\n",
    "        print(f\"dog_image_paths: {dog_image_dir}, len: {len(dog_image_paths)}\")\n",
    "        dog_image_labels = torch.ones(size=(len(dog_image_paths),))\n",
    "        \n",
    "        self.image_paths = np.concatenate((cat_image_paths, dog_image_paths))\n",
    "        self.image_labels = np.concatenate(( cat_image_labels, dog_image_labels))\n",
    "\n",
    "        self.transform = transform\n",
    "        \n",
    "         \n",
    "    def __len__(self):\n",
    "        return len(self.image_labels)\n",
    "\n",
    "    def __getitem__(self, idx):\n",
    "        image = Image.open(self.image_paths[idx]).convert('RGB')\n",
    "        if self.transform:\n",
    "            image = np.array(image)\n",
    "            iamge = self.transform(image)\n",
    "            image = Image.fromarray(image)\n",
    "            \n",
    "        label = self.image_labels[idx]\n",
    "        label = torch.from_numpy(np.array([[label]]))\n",
    "        return {'image': image,\n",
    "                 'label': label}\n",
    "    \n",
    "    def label_dict(self):\n",
    "        return {0:'Cat', 1:'Dog'}\n",
    "    \n",
    "    def get_cat_dog_image(self):\n",
    "        cat_image = read_image(self.image_paths[0])\n",
    "        dog_image = read_image(self.image_paths[-1])\n",
    "        return cat_image, dog_image\n",
    "\n",
    "train_transforms = v2.Compose(\n",
    "    [\n",
    "        v2.ToDtype(torch.float32),\n",
    "        v2.Normalize(mean=[0.485, 0.456, 0.406], std=[0.229, 0.224, 0.225]),\n",
    "        v2.Resize(size=(224, 224)),\n",
    "    ]\n",
    ")\n",
    "\n",
    "# train_dataset = CatDogDataset(training_dataset_dir, transform=None)\n",
    "validation_dataset = CatDogDataset(validation_dataset_dir, transform=None)\n",
    "inference_dataset = CatDogDataset(inference_dataset_dir, transform=None)"
   ]
  },
  {
   "cell_type": "code",
   "execution_count": 4,
   "metadata": {},
   "outputs": [
    {
     "name": "stderr",
     "output_type": "stream",
     "text": [
      "100%|██████████| 1800/1800 [04:48<00:00,  6.25it/s]\n"
     ]
    },
    {
     "name": "stdout",
     "output_type": "stream",
     "text": [
      "Without Random-Erasing correct: 1780, total: 1800, accuracy: 0.9888888888888889\n"
     ]
    },
    {
     "name": "stderr",
     "output_type": "stream",
     "text": [
      "100%|██████████| 1800/1800 [06:38<00:00,  4.52it/s]"
     ]
    },
    {
     "name": "stdout",
     "output_type": "stream",
     "text": [
      "With Random-Erasing correct: 1784, total: 1800, accuracy: 0.9911111111111112\n"
     ]
    },
    {
     "name": "stderr",
     "output_type": "stream",
     "text": [
      "\n"
     ]
    }
   ],
   "source": [
    "from transformers import ConvNextImageProcessor, ResNetForImageClassification\n",
    "image_processor = ConvNextImageProcessor.from_pretrained(\"microsoft/resnet-50\")\n",
    "\n",
    "model = ResNetForImageClassification.from_pretrained(\n",
    "    check_point1,\n",
    "    ignore_mismatched_sizes=True,\n",
    ")\n",
    "model.classifier.add_module(\"2\", torch.nn.Sigmoid())\n",
    "\n",
    "correct = 0\n",
    "for i in trange(len(validation_dataset)):\n",
    "    image = validation_dataset[i]['image']\n",
    "    label = validation_dataset[i]['label']\n",
    "    inputs = image_processor(image, return_tensors=\"pt\")\n",
    "    with torch.no_grad():\n",
    "        logits = model(**inputs).logits\n",
    "    prediction = np.round(logits)\n",
    "    if label == prediction:\n",
    "        correct += 1\n",
    "accuracy_without = correct/len(validation_dataset)\n",
    "print(f\"Without Random-Erasing correct: {correct}, total: {len(validation_dataset)}, accuracy: {accuracy_without}\")\n",
    "\n",
    "model = ResNetForImageClassification.from_pretrained(\n",
    "    check_point2,\n",
    "    ignore_mismatched_sizes=True,\n",
    ")\n",
    "model.classifier.add_module(\"2\", torch.nn.Sigmoid())\n",
    "\n",
    "correct = 0\n",
    "for i in trange(len(validation_dataset)):\n",
    "    image = validation_dataset[i]['image']\n",
    "    label = validation_dataset[i]['label']\n",
    "    inputs = image_processor(image, return_tensors=\"pt\")\n",
    "    with torch.no_grad():\n",
    "        logits = model(**inputs).logits\n",
    "    prediction = np.round(logits)\n",
    "    if label == prediction:\n",
    "        correct += 1\n",
    "accuracy_with = correct/len(validation_dataset)\n",
    "print(f\"With Random-Erasing correct: {correct}, total: {len(validation_dataset)}, accuracy: {accuracy_with}\")"
   ]
  },
  {
   "cell_type": "code",
   "execution_count": 6,
   "metadata": {},
   "outputs": [
    {
     "data": {
      "image/png": "[encoded data removed]",
      "text/plain": [
       "<Figure size 640x480 with 1 Axes>"
      ]
     },
     "metadata": {},
     "output_type": "display_data"
    }
   ],
   "source": [
    "plt.bar(['Without Random erasing', 'With Random erasing'], [accuracy_without * 100, accuracy_with * 100])\n",
    "plt.title('Accuracy Comparison')\n",
    "plt.ylabel('Accuracy (%)')\n",
    "\n",
    "for i, v in enumerate([accuracy_without * 100, accuracy_with * 100]):\n",
    "    plt.text(i, v + 1, str(round(v, 2)), ha='center', va='bottom')\n",
    "\n",
    "plt.show()"
   ]
  }
 ],
 "metadata": {
  "kernelspec": {
   "display_name": "OpenCVDL2023HW2-jWty1gEm",
   "language": "python",
   "name": "python3"
  },
  "language_info": {
   "codemirror_mode": {
    "name": "ipython",
    "version": 3
   },
   "file_extension": ".py",
   "mimetype": "text/x-python",
   "name": "python",
   "nbconvert_exporter": "python",
   "pygments_lexer": "ipython3",
   "version": "3.10.12"
  }
 },
 "nbformat": 4,
 "nbformat_minor": 2
}
